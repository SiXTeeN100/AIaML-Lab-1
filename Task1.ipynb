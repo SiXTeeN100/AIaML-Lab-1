{
 "cells": [
  {
   "attachments": {
    "4426971c-b5fa-4765-9f97-a8ff9239f174.png": {
     "image/png": "[encoded data removed]"
    }
   },
   "cell_type": "markdown",
   "id": "370060e3-633d-4983-8234-852d67e61d1d",
   "metadata": {},
   "source": [
    "Практическое задание №1 Работа с ячейками и Markdown\n",
    "\n",
    "**Жирный текст** *Курсивный текст*\n",
    "\n",
    "1. первый пункт\n",
    "2. второй пункт \n",
    "3. третитй пункт\n",
    "   \n",
    "- первый пункт\n",
    "- второй пункт\n",
    "- третий пункт\n",
    "\n",
    "Вариант 9: \\\n",
    "\\begin{align*}\n",
    "f(x) = \\frac{a_0}{2} + \\sum_{n=1}^\\infty a_n \\cos(nx) + b_n \\sin(nx).\n",
    "\\end{align*}\n",
    "\n",
    "![jupyterlab.png](attachment:4426971c-b5fa-4765-9f97-a8ff9239f174.png)\n",
    "\n"
   ]
  },
  {
   "cell_type": "code",
   "execution_count": 5,
   "id": "82fb4bc7-5445-4f0b-a347-0b00356f34d1",
   "metadata": {},
   "outputs": [
    {
     "name": "stdin",
     "output_type": "stream",
     "text": [
      "Введите имя:  Дмитрий\n"
     ]
    },
    {
     "name": "stdout",
     "output_type": "stream",
     "text": [
      "Привет, Дмитрий! Добро пожаловать в JupyterLab!\n"
     ]
    }
   ],
   "source": [
    "name = input(\"Введите имя: \")\n",
    "print(f\"Привет, {name}! Добро пожаловать в JupyterLab!\")"
   ]
  },
  {
   "cell_type": "markdown",
   "id": "9ccb1cd6-ec97-4b90-b631-0bc4e96953ce",
   "metadata": {},
   "source": [
    "--------------------------------------------------------------------------------"
   ]
  },
  {
   "cell_type": "markdown",
   "id": "78723e7b-991f-495f-83c1-06a9ae4d4b0b",
   "metadata": {},
   "source": [
    "Практическое задание №2 Работа с файлами"
   ]
  },
  {
   "cell_type": "markdown",
   "id": "48993062-df18-49a9-904b-0b1a0fa1aada",
   "metadata": {},
   "source": [
    "--------------------------------------------------------------------------------"
   ]
  },
  {
   "cell_type": "code",
   "execution_count": 6,
   "id": "2d426997-678b-4756-bf92-572f02acad0c",
   "metadata": {},
   "outputs": [
    {
     "name": "stdout",
     "output_type": "stream",
     "text": [
      "Содержимое файла:\n",
      "\n",
      "Первая строка\n",
      "2-ая строка\n",
      "Third line\n",
      "\n",
      "Файл существует: True\n",
      "Файл удален.\n"
     ]
    }
   ],
   "source": [
    "import os\n",
    "\n",
    "with open(\"example.txt\", \"w\") as f:\n",
    "    f.write(\"Первая строка\\n\")\n",
    "    f.write(\"2-ая строка\\n\")\n",
    "    f.write(\"Third line\\n\")\n",
    "\n",
    "with open(\"example.txt\", \"r\") as f:\n",
    "    content = f.read()\n",
    "    print(\"Содержимое файла:\\n\")\n",
    "    print(content)\n",
    "\n",
    "print(\"Файл существует:\", os.path.exists(\"example.txt\"))\n",
    "\n",
    "os.remove(\"example.txt\")\n",
    "print(\"Файл удален.\")"
   ]
  },
  {
   "cell_type": "markdown",
   "id": "ca869e5d-487f-4e94-94e7-9c6307f57c59",
   "metadata": {},
   "source": [
    "--------------------------------------------------------------------------------"
   ]
  },
  {
   "cell_type": "markdown",
   "id": "f90821a2-be0c-4e57-899b-f7511caa34d2",
   "metadata": {},
   "source": [
    "Практическое задание №3 Магические команды Jupyter"
   ]
  },
  {
   "cell_type": "markdown",
   "id": "5202c59d-8f92-43d3-b5c3-c87fd7d276fe",
   "metadata": {},
   "source": [
    "--------------------------------------------------------------------------------"
   ]
  },
  {
   "cell_type": "code",
   "execution_count": 8,
   "id": "e89e53f8-388f-4668-8cd9-0db3f6fff8d0",
   "metadata": {},
   "outputs": [
    {
     "name": "stdout",
     "output_type": "stream",
     "text": [
      "Список магических команд:\n"
     ]
    },
    {
     "data": {
      "application/json": {
       "cell": {
        "!": "OSMagics",
        "HTML": "Other",
        "SVG": "Other",
        "bash": "Other",
        "capture": "ExecutionMagics",
        "cmd": "Other",
        "code_wrap": "ExecutionMagics",
        "debug": "ExecutionMagics",
        "file": "Other",
        "html": "DisplayMagics",
        "javascript": "DisplayMagics",
        "js": "DisplayMagics",
        "latex": "DisplayMagics",
        "markdown": "DisplayMagics",
        "perl": "Other",
        "prun": "ExecutionMagics",
        "pypy": "Other",
        "python": "Other",
        "python2": "Other",
        "python3": "Other",
        "ruby": "Other",
        "script": "ScriptMagics",
        "sh": "Other",
        "svg": "DisplayMagics",
        "sx": "OSMagics",
        "system": "OSMagics",
        "time": "ExecutionMagics",
        "timeit": "ExecutionMagics",
        "writefile": "OSMagics"
       },
       "line": {
        "alias": "OSMagics",
        "alias_magic": "BasicMagics",
        "autoawait": "AsyncMagics",
        "autocall": "AutoMagics",
        "automagic": "AutoMagics",
        "autosave": "KernelMagics",
        "bookmark": "OSMagics",
        "cd": "OSMagics",
        "clear": "KernelMagics",
        "cls": "KernelMagics",
        "code_wrap": "ExecutionMagics",
        "colors": "BasicMagics",
        "conda": "PackagingMagics",
        "config": "ConfigMagics",
        "connect_info": "KernelMagics",
        "copy": "Other",
        "ddir": "Other",
        "debug": "ExecutionMagics",
        "dhist": "OSMagics",
        "dirs": "OSMagics",
        "doctest_mode": "BasicMagics",
        "echo": "Other",
        "ed": "Other",
        "edit": "KernelMagics",
        "env": "OSMagics",
        "gui": "BasicMagics",
        "hist": "Other",
        "history": "HistoryMagics",
        "killbgscripts": "ScriptMagics",
        "ldir": "Other",
        "less": "KernelMagics",
        "load": "CodeMagics",
        "load_ext": "ExtensionMagics",
        "loadpy": "CodeMagics",
        "logoff": "LoggingMagics",
        "logon": "LoggingMagics",
        "logstart": "LoggingMagics",
        "logstate": "LoggingMagics",
        "logstop": "LoggingMagics",
        "ls": "Other",
        "lsmagic": "BasicMagics",
        "macro": "ExecutionMagics",
        "magic": "BasicMagics",
        "mamba": "PackagingMagics",
        "matplotlib": "PylabMagics",
        "micromamba": "PackagingMagics",
        "mkdir": "Other",
        "more": "KernelMagics",
        "notebook": "BasicMagics",
        "page": "BasicMagics",
        "pastebin": "CodeMagics",
        "pdb": "ExecutionMagics",
        "pdef": "NamespaceMagics",
        "pdoc": "NamespaceMagics",
        "pfile": "NamespaceMagics",
        "pinfo": "NamespaceMagics",
        "pinfo2": "NamespaceMagics",
        "pip": "PackagingMagics",
        "popd": "OSMagics",
        "pprint": "BasicMagics",
        "precision": "BasicMagics",
        "prun": "ExecutionMagics",
        "psearch": "NamespaceMagics",
        "psource": "NamespaceMagics",
        "pushd": "OSMagics",
        "pwd": "OSMagics",
        "pycat": "OSMagics",
        "pylab": "PylabMagics",
        "qtconsole": "KernelMagics",
        "quickref": "BasicMagics",
        "recall": "HistoryMagics",
        "rehashx": "OSMagics",
        "reload_ext": "ExtensionMagics",
        "ren": "Other",
        "rep": "Other",
        "rerun": "HistoryMagics",
        "reset": "NamespaceMagics",
        "reset_selective": "NamespaceMagics",
        "rmdir": "Other",
        "run": "ExecutionMagics",
        "save": "CodeMagics",
        "sc": "OSMagics",
        "set_env": "OSMagics",
        "store": "StoreMagics",
        "sx": "OSMagics",
        "system": "OSMagics",
        "tb": "ExecutionMagics",
        "time": "ExecutionMagics",
        "timeit": "ExecutionMagics",
        "unalias": "OSMagics",
        "unload_ext": "ExtensionMagics",
        "uv": "PackagingMagics",
        "who": "NamespaceMagics",
        "who_ls": "NamespaceMagics",
        "whos": "NamespaceMagics",
        "xdel": "NamespaceMagics",
        "xmode": "BasicMagics"
       }
      },
      "text/plain": [
       "Available line magics:\n",
       "%alias  %alias_magic  %autoawait  %autocall  %automagic  %autosave  %bookmark  %cd  %clear  %cls  %code_wrap  %colors  %conda  %config  %connect_info  %copy  %ddir  %debug  %dhist  %dirs  %doctest_mode  %echo  %ed  %edit  %env  %gui  %hist  %history  %killbgscripts  %ldir  %less  %load  %load_ext  %loadpy  %logoff  %logon  %logstart  %logstate  %logstop  %ls  %lsmagic  %macro  %magic  %mamba  %matplotlib  %micromamba  %mkdir  %more  %notebook  %page  %pastebin  %pdb  %pdef  %pdoc  %pfile  %pinfo  %pinfo2  %pip  %popd  %pprint  %precision  %prun  %psearch  %psource  %pushd  %pwd  %pycat  %pylab  %qtconsole  %quickref  %recall  %rehashx  %reload_ext  %ren  %rep  %rerun  %reset  %reset_selective  %rmdir  %run  %save  %sc  %set_env  %store  %sx  %system  %tb  %time  %timeit  %unalias  %unload_ext  %uv  %who  %who_ls  %whos  %xdel  %xmode\n",
       "\n",
       "Available cell magics:\n",
       "%%!  %%HTML  %%SVG  %%bash  %%capture  %%cmd  %%code_wrap  %%debug  %%file  %%html  %%javascript  %%js  %%latex  %%markdown  %%perl  %%prun  %%pypy  %%python  %%python2  %%python3  %%ruby  %%script  %%sh  %%svg  %%sx  %%system  %%time  %%timeit  %%writefile\n",
       "\n",
       "Automagic is ON, % prefix IS NOT needed for line magics."
      ]
     },
     "execution_count": 8,
     "metadata": {},
     "output_type": "execute_result"
    }
   ],
   "source": [
    "print(\"Список магических команд:\")\n",
    "%lsmagic"
   ]
  },
  {
   "cell_type": "code",
   "execution_count": 9,
   "id": "79221e5b-535c-4d59-b5ea-200117fef6cc",
   "metadata": {},
   "outputs": [
    {
     "name": "stdout",
     "output_type": "stream",
     "text": [
      "Измерение времени выполнения кода:\n",
      "Время выполнения одной строки кода:\n",
      "CPU times: total: 0 ns\n",
      "Wall time: 0 ns\n"
     ]
    },
    {
     "data": {
      "text/plain": [
       "499500"
      ]
     },
     "execution_count": 9,
     "metadata": {},
     "output_type": "execute_result"
    }
   ],
   "source": [
    "print(\"Измерение времени выполнения кода:\")\n",
    "\n",
    "print(\"Время выполнения одной строки кода:\")\n",
    "%time sum(range(1000))"
   ]
  },
  {
   "cell_type": "code",
   "execution_count": 11,
   "id": "b2944bd3-bbf8-49be-8fdf-8610be9b144b",
   "metadata": {},
   "outputs": [
    {
     "name": "stdout",
     "output_type": "stream",
     "text": [
      "21.4 μs ± 536 ns per loop (mean ± std. dev. of 7 runs, 10,000 loops each)\n"
     ]
    }
   ],
   "source": [
    "%%timeit\n",
    "total = 0\n",
    "for i in range(1000):\n",
    "    total += i"
   ]
  },
  {
   "cell_type": "code",
   "execution_count": 13,
   "id": "73962c20-130b-44c9-ac84-3386ada6b7e3",
   "metadata": {},
   "outputs": [
    {
     "name": "stdout",
     "output_type": "stream",
     "text": [
      "Overwriting test_script.py\n"
     ]
    }
   ],
   "source": [
    "%%writefile test_script.py\n",
    "for i in range(3):\n",
    "    print(f\"Итерация {i}\")"
   ]
  },
  {
   "cell_type": "code",
   "execution_count": 14,
   "id": "57756f89-254c-4646-a4d5-5e2d8688f544",
   "metadata": {},
   "outputs": [
    {
     "name": "stdout",
     "output_type": "stream",
     "text": [
      "Итерация 0\n",
      "Итерация 1\n",
      "Итерация 2\n"
     ]
    }
   ],
   "source": [
    "!python test_script.py"
   ]
  },
  {
   "cell_type": "code",
   "execution_count": 15,
   "id": "5b4516d9-b246-49b9-995e-b89189ba73f3",
   "metadata": {},
   "outputs": [
    {
     "name": "stdout",
     "output_type": "stream",
     "text": [
      "Список файлов в текущей директории:\n",
      " ’®¬ ў гбва®©бвўҐ C Ё¬ҐҐв ¬ҐвЄг Windows\n",
      " ‘ҐаЁ©­л© ­®¬Ґа в®¬ : 52C7-6EF6\n",
      "\n",
      " ‘®¤Ґа¦Ё¬®Ґ Ї ЇЄЁ C:\\Users\\„¬ЁваЁ©\n",
      "\n",
      "05.03.2025  18:09    <DIR>          .\n",
      "26.02.2025  15:19    <DIR>          ..\n",
      "27.02.2025  21:49    <DIR>          .anaconda\n",
      "27.02.2025  21:58    <DIR>          .conda\n",
      "27.02.2025  21:49               146 .condarc\n",
      "27.02.2025  21:48    <DIR>          .continuum\n",
      "07.09.2023  22:48    <DIR>          .dotnet\n",
      "27.02.2025  23:47    <DIR>          .ipynb_checkpoints\n",
      "27.02.2025  22:13    <DIR>          .ipython\n",
      "27.02.2025  21:57    <DIR>          .jupyter\n",
      "21.11.2024  13:46    <DIR>          .matplotlib\n",
      "22.12.2023  22:04               192 .packettracer\n",
      "07.09.2023  22:56    <DIR>          .templateengine\n",
      "01.12.2024  00:57    <DIR>          .VirtualBox\n",
      "04.09.2024  20:57    <DIR>          .vscode\n",
      "04.03.2025  22:00    <DIR>          BrawlhallaReplays\n",
      "22.12.2023  22:07    <DIR>          Cisco Packet Tracer 8.2.1\n",
      "26.02.2025  15:25    <DIR>          Contacts\n",
      "04.03.2025  23:56    <DIR>          Desktop\n",
      "26.02.2025  15:25    <DIR>          Documents\n",
      "02.03.2025  17:52    <DIR>          Downloads\n",
      "26.02.2025  15:25    <DIR>          Favorites\n",
      "26.02.2025  15:25    <DIR>          Links\n",
      "26.02.2025  15:25    <DIR>          Music\n",
      "05.03.2025  14:59    <DIR>          OneDrive\n",
      "26.02.2025  15:25    <DIR>          Pictures\n",
      "26.02.2025  15:25    <DIR>          Saved Games\n",
      "27.02.2025  23:10                60 script.py\n",
      "26.02.2025  15:25    <DIR>          Searches\n",
      "08.09.2023  12:44    <DIR>          source\n",
      "12.09.2023  14:10                 0 Sti_Trace.log\n",
      "05.03.2025  18:09            21я838 Task1.ipynb\n",
      "27.02.2025  23:47             1я692 Task2.ipynb\n",
      "27.02.2025  23:47            14я508 Task3.ipynb\n",
      "27.02.2025  23:47             4я712 Task4.ipynb\n",
      "27.02.2025  23:44                22 test_file.txt\n",
      "27.02.2025  23:44    <DIR>          test_folder\n",
      "05.03.2025  18:09                56 test_script.py\n",
      "27.02.2025  23:46             4я712 Untitled.ipynb\n",
      "26.02.2025  15:50    <DIR>          Videos\n",
      "23.09.2024  20:48    <DIR>          VirtualBox VMs\n",
      "              11 д ©«®ў         47я938 Ў ©в\n",
      "              30 Ї Ї®Є  35я833я335я808 Ў ©в бў®Ў®¤­®\n"
     ]
    }
   ],
   "source": [
    "print(\"Список файлов в текущей директории:\")\n",
    "%ls"
   ]
  },
  {
   "cell_type": "code",
   "execution_count": 16,
   "id": "b90b1d7d-f2a5-48b7-854c-2d6fb5679e0e",
   "metadata": {},
   "outputs": [
    {
     "name": "stdout",
     "output_type": "stream",
     "text": [
      "История команд:\n",
      "import os\n",
      "\n",
      "with open(\"example.txt\", \"w\") as f:\n",
      "    f.write(\"Первая строка\\n\")\n",
      "    f.write(\"2-ая строка\\n\")\n",
      "    f.write(\"Third line\\n\")\n",
      "\n",
      "with open(\"example.txt\", \"r\") as f:\n",
      "    content = f.read()\n",
      "    print(\"Содержимое файла:\\n\")\n",
      "    print(content)\n",
      "\n",
      "print(\"Файл существует:\", os.path.exists(\"example.txt\"))\n",
      "\n",
      "os.remove(\"example.txt\")\n",
      "print(\"Файл удален.\")\n",
      "import os\n",
      "\n",
      "with open(\"example.txt\", \"w\") as f:\n",
      "    f.write(\"Первая строка\\n\")\n",
      "    f.write(\"2-ая строка\\n\")\n",
      "    f.write(\"Third line\\n\")\n",
      "\n",
      "with open(\"example.txt\", \"r\") as f:\n",
      "    content = f.read()\n",
      "    print(\"Содержимое файла:\\n\")\n",
      "    print(content)\n",
      "\n",
      "print(\"Файл существует:\", os.path.exists(\"example.txt\"))\n",
      "\n",
      "os.remove(\"example.txt\")\n",
      "print(\"Файл удален.\")\n",
      "name = input(\"Введите имя: \")\n",
      "print(f\"Привет, {name}! Добро пожаловать в JupyterLab!\")\n",
      "name = input(\"Введите имя: \")\n",
      "print(f\"Привет, {name}! Добро пожаловать в JupyterLab!\")\n",
      "name = input(\"Введите имя: \")\n",
      "print(f\"Привет, {name}! Добро пожаловать в JupyterLab!\")\n",
      "import os\n",
      "\n",
      "with open(\"example.txt\", \"w\") as f:\n",
      "    f.write(\"Первая строка\\n\")\n",
      "    f.write(\"2-ая строка\\n\")\n",
      "    f.write(\"Third line\\n\")\n",
      "\n",
      "with open(\"example.txt\", \"r\") as f:\n",
      "    content = f.read()\n",
      "    print(\"Содержимое файла:\\n\")\n",
      "    print(content)\n",
      "\n",
      "print(\"Файл существует:\", os.path.exists(\"example.txt\"))\n",
      "\n",
      "os.remove(\"example.txt\")\n",
      "print(\"Файл удален.\")\n",
      "Практическое задание №3\n",
      "print(\"Список магических команд:\")\n",
      "%lsmagic\n",
      "print(\"Измерение времени выполнения кода:\")\n",
      "\n",
      "print(\"Время выполнения одной строки кода:\")\n",
      "%time sum(range(1000))\n",
      "%%timeit\n",
      "total = 0\n",
      "for i in range(1000):\n",
      "    total += i\n",
      "%%timeit\n",
      "total = 0\n",
      "for i in range(1000):\n",
      "    total += i\n",
      "%%writefile test_script.py\n",
      "for i in range(3):\n",
      "    print(f\"Итерация {i}\")\n",
      "%%writefile test_script.py\n",
      "for i in range(3):\n",
      "    print(f\"Итерация {i}\")\n",
      "!python test_script.py\n",
      "print(\"Список файлов в текущей директории:\")\n",
      "%ls\n",
      "print(\"История команд:\")\n",
      "%history\n"
     ]
    }
   ],
   "source": [
    "print(\"История команд:\")\n",
    "%history"
   ]
  },
  {
   "cell_type": "markdown",
   "id": "0aa965cf-ddb5-4f35-aba8-f54291b64530",
   "metadata": {},
   "source": [
    "--------------------------------------------------------------------------------"
   ]
  },
  {
   "cell_type": "markdown",
   "id": "c0970403-0549-4382-a0e5-89eb648a21f1",
   "metadata": {},
   "source": [
    "Практическое задание №4 Взаимодействие с оболочкой системы"
   ]
  },
  {
   "cell_type": "markdown",
   "id": "21a17f87-fbcd-4b07-a0e4-5317cfa57c4d",
   "metadata": {},
   "source": [
    "--------------------------------------------------------------------------------"
   ]
  },
  {
   "cell_type": "code",
   "execution_count": 21,
   "id": "c95a3bb1-10fe-4089-9c0e-38d8072177c7",
   "metadata": {},
   "outputs": [
    {
     "name": "stdout",
     "output_type": "stream",
     "text": [
      "Список файлов в текущей директории:\n",
      " ’®¬ ў гбва®©бвўҐ C Ё¬ҐҐв ¬ҐвЄг Windows\n",
      " ‘ҐаЁ©­л© ­®¬Ґа в®¬ : 52C7-6EF6\n",
      "\n",
      " ‘®¤Ґа¦Ё¬®Ґ Ї ЇЄЁ C:\\Users\\„¬ЁваЁ©\n",
      "\n",
      "05.03.2025  18:14    <DIR>          .\n",
      "26.02.2025  15:19    <DIR>          ..\n",
      "27.02.2025  21:49    <DIR>          .anaconda\n",
      "27.02.2025  21:58    <DIR>          .conda\n",
      "27.02.2025  21:49               146 .condarc\n",
      "27.02.2025  21:48    <DIR>          .continuum\n",
      "07.09.2023  22:48    <DIR>          .dotnet\n",
      "27.02.2025  23:47    <DIR>          .ipynb_checkpoints\n",
      "27.02.2025  22:13    <DIR>          .ipython\n",
      "27.02.2025  21:57    <DIR>          .jupyter\n",
      "21.11.2024  13:46    <DIR>          .matplotlib\n",
      "22.12.2023  22:04               192 .packettracer\n",
      "07.09.2023  22:56    <DIR>          .templateengine\n",
      "01.12.2024  00:57    <DIR>          .VirtualBox\n",
      "04.09.2024  20:57    <DIR>          .vscode\n",
      "04.03.2025  22:00    <DIR>          BrawlhallaReplays\n",
      "22.12.2023  22:07    <DIR>          Cisco Packet Tracer 8.2.1\n",
      "26.02.2025  15:25    <DIR>          Contacts\n",
      "04.03.2025  23:56    <DIR>          Desktop\n",
      "26.02.2025  15:25    <DIR>          Documents\n",
      "02.03.2025  17:52    <DIR>          Downloads\n",
      "26.02.2025  15:25    <DIR>          Favorites\n",
      "26.02.2025  15:25    <DIR>          Links\n",
      "26.02.2025  15:25    <DIR>          Music\n",
      "05.03.2025  14:59    <DIR>          OneDrive\n",
      "26.02.2025  15:25    <DIR>          Pictures\n",
      "26.02.2025  15:25    <DIR>          Saved Games\n",
      "27.02.2025  23:10                60 script.py\n",
      "26.02.2025  15:25    <DIR>          Searches\n",
      "08.09.2023  12:44    <DIR>          source\n",
      "12.09.2023  14:10                 0 Sti_Trace.log\n",
      "05.03.2025  18:14            29я627 Task1.ipynb\n",
      "27.02.2025  23:47             1я692 Task2.ipynb\n",
      "27.02.2025  23:47            14я508 Task3.ipynb\n",
      "27.02.2025  23:47             4я712 Task4.ipynb\n",
      "27.02.2025  23:44                22 test_file.txt\n",
      "27.02.2025  23:44    <DIR>          test_folder\n",
      "05.03.2025  18:09                56 test_script.py\n",
      "27.02.2025  23:46             4я712 Untitled.ipynb\n",
      "26.02.2025  15:50    <DIR>          Videos\n",
      "23.09.2024  20:48    <DIR>          VirtualBox VMs\n",
      "              11 д ©«®ў         55я727 Ў ©в\n",
      "              30 Ї Ї®Є  35я812я749я312 Ў ©в бў®Ў®¤­®\n"
     ]
    }
   ],
   "source": [
    "print(\"Список файлов в текущей директории:\")\n",
    "%ls"
   ]
  },
  {
   "cell_type": "code",
   "execution_count": 28,
   "id": "05289b9d-2d2b-4c37-aaef-472fd0febca5",
   "metadata": {},
   "outputs": [
    {
     "name": "stdout",
     "output_type": "stream",
     "text": [
      "C:\\Users\\Дмитрий\\AppData\\Local\\Microsoft\\WindowsApps\\PythonSoftwareFoundation.Python.3.11_qbz5n2kfra8p0\\python.exe\n"
     ]
    }
   ],
   "source": [
    "import sys\n",
    "print(sys.executable)"
   ]
  },
  {
   "cell_type": "code",
   "execution_count": 36,
   "id": "93bab8a5-fbe7-4ac1-9767-574afb26e89e",
   "metadata": {},
   "outputs": [
    {
     "name": "stdout",
     "output_type": "stream",
     "text": [
      "Папка 'test_folder' уже существует.\n"
     ]
    }
   ],
   "source": [
    "import os\n",
    "\n",
    "if not os.path.exists(\"test_folder\"):\n",
    "    os.makedirs(\"test_folder\")\n",
    "    print(f\"Папка '{folder_name}' создана.\")\n",
    "else:\n",
    "    print(f\"Папка '{folder_name}' уже существует.\")"
   ]
  },
  {
   "cell_type": "code",
   "execution_count": 47,
   "id": "75e7c07e-ea9c-4b48-8e46-44b47f8cccfc",
   "metadata": {},
   "outputs": [
    {
     "name": "stdout",
     "output_type": "stream",
     "text": [
      "Файл test_file.txt перемещён в test_folder\n",
      "Файл test_folder\\test_file.txt удалён.\n"
     ]
    }
   ],
   "source": [
    "import shutil\n",
    "import os\n",
    "\n",
    "\n",
    "file = \"test_file.txt\"  \n",
    "folder = \"test_folder\"\n",
    "\n",
    "if os.path.exists(file):\n",
    "    shutil.move(file, folder)\n",
    "    print(f\"Файл {file} перемещён в {folder}\")\n",
    "else:\n",
    "    print(f\"Файл {file} не найден!\")\n",
    "\n",
    "# Удаление файла после перемещения\n",
    "moved_file_path = os.path.join(folder, \"test_file.txt\")\n",
    "if os.path.exists(moved_file_path):\n",
    "    os.remove(moved_file_path)\n",
    "    print(f\"Файл {moved_file_path} удалён.\")\n",
    "else:\n",
    "    print(f\"Файл {moved_file_path} не найден для удаления.\")\n"
   ]
  },
  {
   "cell_type": "code",
   "execution_count": null,
   "id": "1b494fd2-1a20-4c89-b682-a856f4a5d181",
   "metadata": {},
   "outputs": [],
   "source": []
  }
 ],
 "metadata": {
  "kernelspec": {
   "display_name": "Python 3 (ipykernel)",
   "language": "python",
   "name": "python3"
  },
  "language_info": {
   "codemirror_mode": {
    "name": "ipython",
    "version": 3
   },
   "file_extension": ".py",
   "mimetype": "text/x-python",
   "name": "python",
   "nbconvert_exporter": "python",
   "pygments_lexer": "ipython3",
   "version": "3.11.9"
  }
 },
 "nbformat": 4,
 "nbformat_minor": 5
}
